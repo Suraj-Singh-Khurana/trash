{
 "cells": [
  {
   "cell_type": "markdown",
   "id": "aba39d0b",
   "metadata": {},
   "source": [
    "# Data Science Tools and Ecosystem"
   ]
  },
  {
   "cell_type": "markdown",
   "id": "794d5a5d",
   "metadata": {},
   "source": [
    "In this notebook, Data Science Tools and Ecosystem are summarized."
   ]
  },
  {
   "cell_type": "markdown",
   "id": "6563d2a5",
   "metadata": {},
   "source": [
    "Some of the popular languages that Data Scientists use are:  \n",
    "1. Python\n",
    "2. R\n",
    "3. Julia\n",
    "4. C++"
   ]
  },
  {
   "cell_type": "markdown",
   "id": "057a193f",
   "metadata": {},
   "source": [
    "Some of the commonly used libraries used by Data Scientists include:  \n",
    "\n",
    "---\n",
    "1. Numpy\n",
    "2. Pandas\n",
    "3. Scikit"
   ]
  },
  {
   "cell_type": "markdown",
   "id": "25649b67",
   "metadata": {},
   "source": [
    "### Data Science Tools  \n",
    "| Data Science Tool      | Description |\n",
    "| -----------| ----------- |\n",
    "| Watson Studio | IBM |\n",
    "| Jupyter Notebook | Open Source |"
   ]
  },
  {
   "cell_type": "markdown",
   "id": "5239efaa",
   "metadata": {},
   "source": [
    "### Below are a few examples of evaluating arithmetic expressions in Python"
   ]
  },
  {
   "cell_type": "code",
   "execution_count": 9,
   "id": "1f4f7ad9",
   "metadata": {},
   "outputs": [
    {
     "name": "stdout",
     "output_type": "stream",
     "text": [
      "200 minutes is equal to 3 hours 20 minutes\n"
     ]
    }
   ],
   "source": [
    "print('200 minutes is equal to', 200//60, 'hours', 200%60, 'minutes') #This will convert 200 minutes to hours by diving by 60"
   ]
  },
  {
   "cell_type": "markdown",
   "id": "5d43d1ba",
   "metadata": {},
   "source": [
    "**Objectives:**  \n",
    "* List popular languages for Data Science  \n",
    "* commonly used libraries used by Data Scientists\n",
    "* Data Science Tools"
   ]
  },
  {
   "cell_type": "markdown",
   "id": "267675b5",
   "metadata": {},
   "source": [
    "## Author  \n",
    "Suraj"
   ]
  }
 ],
 "metadata": {
  "kernelspec": {
   "display_name": "Python 3 (ipykernel)",
   "language": "python",
   "name": "python3"
  },
  "language_info": {
   "codemirror_mode": {
    "name": "ipython",
    "version": 3
   },
   "file_extension": ".py",
   "mimetype": "text/x-python",
   "name": "python",
   "nbconvert_exporter": "python",
   "pygments_lexer": "ipython3",
   "version": "3.10.6"
  }
 },
 "nbformat": 4,
 "nbformat_minor": 5
}
