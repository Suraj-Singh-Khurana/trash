{
 "cells": [
  {
   "cell_type": "markdown",
   "id": "d49a7acb",
   "metadata": {},
   "source": [
    "# My Jupyter Notebook on IBM Watson Studio"
   ]
  },
  {
   "cell_type": "markdown",
   "id": "490b0f0c",
   "metadata": {},
   "source": [
    "**Suraj**  \n",
    "Desired Occupation: None"
   ]
  },
  {
   "cell_type": "markdown",
   "id": "40a7dc2f",
   "metadata": {},
   "source": [
    "*I am interested in data science because it is interesting*"
   ]
  },
  {
   "cell_type": "markdown",
   "id": "26ff4f67",
   "metadata": {},
   "source": [
    "### The code below adds two numbers"
   ]
  },
  {
   "cell_type": "code",
   "execution_count": 4,
   "id": "ee38b3af",
   "metadata": {},
   "outputs": [
    {
     "data": {
      "text/plain": [
       "6"
      ]
     },
     "execution_count": 4,
     "metadata": {},
     "output_type": "execute_result"
    }
   ],
   "source": [
    "2+4"
   ]
  },
  {
   "cell_type": "markdown",
   "id": "91dbd06a",
   "metadata": {},
   "source": [
    "Below is the horizontal rule  \n",
    "\n",
    "---  \n",
    "Below is a bulleted list  \n",
    "* list number 1  \n",
    "\n",
    "Below is a numbered list\n",
    "1. list number 1  \n",
    "\n",
    "Below is a strikethrough  \n",
    "~~Hello~~  \n",
    "Below is a link to a site  \n",
    "[Youtube][www.youtube.com]\n"
   ]
  }
 ],
 "metadata": {
  "kernelspec": {
   "display_name": "Python 3 (ipykernel)",
   "language": "python",
   "name": "python3"
  },
  "language_info": {
   "codemirror_mode": {
    "name": "ipython",
    "version": 3
   },
   "file_extension": ".py",
   "mimetype": "text/x-python",
   "name": "python",
   "nbconvert_exporter": "python",
   "pygments_lexer": "ipython3",
   "version": "3.10.6"
  }
 },
 "nbformat": 4,
 "nbformat_minor": 5
}
